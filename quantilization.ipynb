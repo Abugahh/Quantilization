{
  "nbformat": 4,
  "nbformat_minor": 0,
  "metadata": {
    "colab": {
      "provenance": []
    },
    "kernelspec": {
      "name": "python3",
      "display_name": "Python 3"
    },
    "language_info": {
      "name": "python"
    }
  },
  "cells": [
    {
      "cell_type": "code",
      "execution_count": null,
      "metadata": {
        "colab": {
          "base_uri": "https://localhost:8080/"
        },
        "id": "BOgjL8WP4ijY",
        "outputId": "cba375c8-6366-4d57-81f5-3d6cc5209600"
      },
      "outputs": [
        {
          "output_type": "stream",
          "name": "stdout",
          "text": [
            "[1 2 3]\n",
            "tensor([1, 2, 3])\n"
          ]
        }
      ],
      "source": [
        "import torch\n",
        "import numpy as np\n",
        "\n",
        "# Creating arrays in NumPy\n",
        "np_array = np.array([1, 2, 3])\n",
        "print(np_array)\n",
        "\n",
        "# Creating tensors in PyTorch\n",
        "torch_tensor = torch.tensor([1, 2, 3])\n",
        "print(torch_tensor)\n"
      ]
    },
    {
      "cell_type": "markdown",
      "source": [
        "\n",
        "Let’s start with dimensions and shapes in the simplest terms and build up from there.\n",
        "\n",
        "1. What Are Dimensions in Numpy Arrays and PyTorch Tensors?\n",
        "A dimension represents the number of \"directions\" or \"levels of organization\" in your data. It defines how many steps it takes to locate an element.\n",
        "\n",
        "1D Array or Tensor: A simple list of numbers (like a single line of data).\n",
        "2D Array or Tensor: A table of numbers with rows and columns (like a spreadsheet).\n",
        "3D Array or Tensor: A stack of tables, like multiple pages in a book."
      ],
      "metadata": {
        "id": "JPGdFdOd_m-m"
      }
    },
    {
      "cell_type": "markdown",
      "source": [
        "The shape of an array or tensor tells you how many elements (data points) exist along each dimension.\n",
        "\n",
        "In 1D, the shape is just the number of elements.\n",
        "Example: [1, 2, 3] → Shape: (3,) (3 elements in 1 dimension)\n",
        "In 2D, the shape is (rows, columns).\n",
        "Example: A table like [[1, 2], [3, 4]] → Shape: (2, 2) (2 rows, 2 columns)\n",
        "In 3D, the shape might be (stacks, rows, columns)"
      ],
      "metadata": {
        "id": "k4Cf6VFvBYV-"
      }
    },
    {
      "cell_type": "code",
      "source": [
        "#2 D\n",
        "\n",
        "# Numpy\n",
        "np_array = np.array([[1, 2],\n",
        "                     [3, 4]])  # Shape: (2, 2)\n",
        "\n",
        "# PyTorch\n",
        "torch_tensor = torch.tensor([[1, 2],\n",
        "                             [3, 4]])  # Shape: (2, 2)\n"
      ],
      "metadata": {
        "id": "4UCacBCM_oAs"
      },
      "execution_count": null,
      "outputs": []
    },
    {
      "cell_type": "code",
      "source": [
        "# 3D\n",
        "\n",
        "# Numpy\n",
        "np_array = np.array([[[1, 2],\n",
        " [3, 4]],\n",
        "[[5, 6],\n",
        " [7, 8]]])  # Shape: (2, 2, 2)\n",
        "\n",
        "# PyTorch\n",
        "torch_tensor = torch.tensor([[[1, 2], [3, 4]], [[5, 6], [7, 8]]])  # Shape: (2, 2, 2)\n"
      ],
      "metadata": {
        "id": "0feRu7YyBq4T"
      },
      "execution_count": null,
      "outputs": []
    },
    {
      "cell_type": "code",
      "source": [
        "\\3D\n",
        "Week 1:\n",
        "[[85, 90, 78],\n",
        " [92, 88, 79],\n",
        " [80, 84, 88],\n",
        " [91, 95, 94],\n",
        " [88, 82, 85]]\n",
        "\n",
        "Week 2:\n",
        "[[89, 92, 80],\n",
        " [94, 91, 82],\n",
        " [83, 88, 90],\n",
        " [96, 97, 98],\n",
        " [87, 85, 88]] → Shape: (2, 5, 3)\n"
      ],
      "metadata": {
        "id": "zdvMuuFFB7Mr"
      },
      "execution_count": null,
      "outputs": []
    },
    {
      "cell_type": "markdown",
      "source": [
        "What Does torch.unsqueeze Do?\n",
        "torch.unsqueeze adds a new dimension to the tensor at the specified axis (or position). It doesn’t add new data; it simply changes the way the data is represented. The original values remain unchanged."
      ],
      "metadata": {
        "id": "6XhTKIonGO_B"
      }
    },
    {
      "cell_type": "code",
      "source": [
        "tensor = torch.tensor([1, 2, 3])  # Shape: (3,) new shape  (1, 3) → 1 row and 3 columns.\n",
        "tensor_unsqueezed = torch.unsqueeze(tensor, dim=0)\n",
        "print(tensor_unsqueezed)\n"
      ],
      "metadata": {
        "colab": {
          "base_uri": "https://localhost:8080/"
        },
        "id": "PA0hv67FGP0t",
        "outputId": "84e8ba26-33ab-48be-b423-47c18f14098f"
      },
      "execution_count": null,
      "outputs": [
        {
          "output_type": "stream",
          "name": "stdout",
          "text": [
            "tensor([[1, 2, 3]])\n"
          ]
        }
      ]
    },
    {
      "cell_type": "code",
      "source": [
        "#chnaging shapes\n",
        "\n",
        "tensor = torch.tensor([[1, 2], [3, 4], [5, 6]])  # Shape: (3, 2)\n",
        "\n",
        "# Reshape into a 2D tensor with 2 rows and 3 columns\n",
        "reshaped_tensor = tensor.view(2, 3)  # Shape: (2, 3)\n",
        "print(reshaped_tensor)\n"
      ],
      "metadata": {
        "colab": {
          "base_uri": "https://localhost:8080/"
        },
        "id": "kyO_qh0MGxx8",
        "outputId": "944e5151-7b40-4b01-f81f-2473b2cc6ec0"
      },
      "execution_count": null,
      "outputs": [
        {
          "output_type": "stream",
          "name": "stdout",
          "text": [
            "tensor([[1, 2, 3],\n",
            "        [4, 5, 6]])\n"
          ]
        }
      ]
    },
    {
      "cell_type": "code",
      "source": [
        "# Original tensor: shape (2, 3)\n",
        "tensor = torch.tensor([[1, 2, 3], [4, 5, 6]])\n",
        "print(\"Original tensor:\", tensor.shape)  # Shape: (2, 3)\n",
        "\n",
        "# Reshape to (3, 2)\n",
        "reshaped_tensor = tensor.view(3, 2)\n",
        "print(\"Reshaped to (3, 2):\", reshaped_tensor.shape)  # Shape: (3, 2)\n",
        "\n",
        "# Reshape to (6,) using -1 (automatic calculation)\n",
        "flattened_tensor = tensor.view(-1)\n",
        "print(\"Flattened to (6,):\", flattened_tensor.shape)  # Shape: (6,)\n"
      ],
      "metadata": {
        "id": "gnwN6gWfHhY5"
      },
      "execution_count": null,
      "outputs": []
    },
    {
      "cell_type": "code",
      "source": [
        "import torch\n",
        "\n",
        "# Example rewards tensor: shape (4,)\n",
        "rewards = torch.tensor([10.0, 5.0, 20.0, 15.0])  # Shape: (4,)\n",
        "threshold = 12.0\n",
        "\n",
        "def quantilization_sigmoid(rewards, threshold):\n",
        "    sigma = 1.0  # Smoothness factor\n",
        "\n",
        "    # Step 1: Subtract threshold, resulting in tensor of same shape (4,)\n",
        "    adjusted_rewards = rewards - threshold  # Shape: (4,)\n",
        "\n",
        "    # Step 2: Apply the sigmoid formula element-wise\n",
        "    scaled_rewards = -(adjusted_rewards / sigma)  # Shape: (4,)\n",
        "    sigmoid_values = 1 / (1 + torch.exp(scaled_rewards))  # Shape: (4,)\n",
        "\n",
        "    return sigmoid_values\n",
        "\n",
        "quantilized_rewards = quantilization_sigmoid(rewards, threshold)\n",
        "print(\"Quantilized rewards:\", quantilized_rewards)\n"
      ],
      "metadata": {
        "id": "vN5xmv2qHrGM"
      },
      "execution_count": null,
      "outputs": []
    },
    {
      "cell_type": "code",
      "source": [
        "# Current rewards shape: (4,)\n",
        "rewards = torch.tensor([10.0, 5.0, 20.0, 15.0])  # Shape: (4,)\n",
        "\n",
        "# Add a batch dimension at position 0: shape becomes (1, 4)\n",
        "batched_rewards = torch.unsqueeze(rewards, dim=0)\n",
        "print(\"Batched rewards shape:\", batched_rewards.shape)\n"
      ],
      "metadata": {
        "id": "JjRHyxR-H4lz"
      },
      "execution_count": null,
      "outputs": []
    },
    {
      "cell_type": "code",
      "source": [
        "# Assume we want the rewards as a 2x2 tensor for some computation\n",
        "reshaped_rewards = rewards.view(2, 2)\n",
        "print(\"Reshaped rewards shape:\", reshaped_rewards.shape)\n"
      ],
      "metadata": {
        "id": "aM30oSeBH7Mi"
      },
      "execution_count": null,
      "outputs": []
    }
  ]
}